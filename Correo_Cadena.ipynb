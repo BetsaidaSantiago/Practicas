{
 "cells": [
  {
   "cell_type": "code",
   "execution_count": 3,
   "id": "18a3e04b",
   "metadata": {},
   "outputs": [
    {
     "name": "stdout",
     "output_type": "stream",
     "text": [
      "Ingrese una cadena de texto: lc131581@escueladeciencias.edu.mx\n",
      "La cadena ingresada es un correo electrónico válido.\n"
     ]
    }
   ],
   "source": [
    "def es_correo_electronico(cadena):\n",
    "    if \"@\" in cadena:\n",
    "        dominio = cadena.split(\"@\")[1]\n",
    "        if dominio.endswith(\".com\") or dominio.endswith(\".com.mx\") or dominio.endswith(\".mx\"):\n",
    "            return True\n",
    "    return False\n",
    "\n",
    "cadena = input(\"Ingrese una cadena de texto: \")\n",
    "if es_correo_electronico(cadena):\n",
    "    print(\"La cadena ingresada es un correo electrónico válido.\")\n",
    "else:\n",
    "    print(\"La cadena ingresada no es un correo electrónico válido.\")"
   ]
  },
  {
   "cell_type": "code",
   "execution_count": null,
   "id": "704991a1",
   "metadata": {},
   "outputs": [],
   "source": []
  }
 ],
 "metadata": {
  "kernelspec": {
   "display_name": "Python 3 (ipykernel)",
   "language": "python",
   "name": "python3"
  },
  "language_info": {
   "codemirror_mode": {
    "name": "ipython",
    "version": 3
   },
   "file_extension": ".py",
   "mimetype": "text/x-python",
   "name": "python",
   "nbconvert_exporter": "python",
   "pygments_lexer": "ipython3",
   "version": "3.9.13"
  }
 },
 "nbformat": 4,
 "nbformat_minor": 5
}
